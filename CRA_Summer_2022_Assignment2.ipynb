{
  "nbformat": 4,
  "nbformat_minor": 0,
  "metadata": {
    "colab": {
      "name": "CRA_Summer 2022_Assignment2.ipynb",
      "provenance": [],
      "collapsed_sections": [],
      "include_colab_link": true
    },
    "kernelspec": {
      "name": "python3",
      "display_name": "Python 3"
    },
    "language_info": {
      "name": "python"
    },
    "accelerator": "GPU",
    "gpuClass": "standard"
  },
  "cells": [
    {
      "cell_type": "markdown",
      "metadata": {
        "id": "view-in-github",
        "colab_type": "text"
      },
      "source": [
        "<a href=\"https://colab.research.google.com/github/A00447694/Vector-Workshop/blob/main/CRA_Summer_2022_Assignment2.ipynb\" target=\"_parent\"><img src=\"https://colab.research.google.com/assets/colab-badge.svg\" alt=\"Open In Colab\"/></a>"
      ]
    },
    {
      "cell_type": "markdown",
      "source": [
        "![LogoVector1.jpg](data:image/jpeg;base64,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)\n",
        "### **Welcome to the Bias in AI Course!**\n",
        "This program is offered by Vector Institute in partnership with the CRA.\n",
        "\n",
        "Instructor: Sayyed Nezhadi\n",
        "| Assignment Developer: Rishav Agarwal\n",
        "| Course Tutors: Reem Al-Saidi and Rishav Agarwal\n",
        "| Course Director: Melissa Valdez\n",
        "\n",
        "### ***Never stop learning!***"
      ],
      "metadata": {
        "id": "P5CBZL17GQW2"
      }
    },
    {
      "cell_type": "markdown",
      "source": [
        "### Assginment 2: Understanding Text Recognition From Images\n",
        "\n",
        "This assignment is split into two parts. First, we will learn how to use a simple text recognition model and in part two we will learn how to create a text detection model. You will understand how text information is extracted from images, and how object detection models are trained. Finally, you will be able to see real time predictions from the the same. \n",
        "\n",
        "The text recognition is based on [Google Tesseract](https://tesseract-ocr.github.io/tessdoc/Home.html).\n",
        "\n",
        "Much of the data localization approach is based on the paper [DiT: Self-supervised Pre-training for Document Image Transformer](https://arxiv.org/abs/2203.02378)  and the code is adopted from this [git repo](https://github.com/microsoft/unilm/tree/master/dit).\n",
        "\n",
        "\n",
        "**Submission Note:** Please ensure you save your notebook to PDF and submit it along with your.ipynb notebooks. Notebooks on their own will not be graded.\n",
        "\n",
        "**Grade:** This assignment is graded out of 105 (with possible + 15 bonus) and will contribute to 15% of your grade. Please see D2L for the grading breakdown."
      ],
      "metadata": {
        "id": "s6_oVyTsM7Ct"
      }
    },
    {
      "cell_type": "markdown",
      "source": [
        "#### Changing Runtime\n",
        "\n",
        "Change the runtime to use a GPU accelerator. You can use a free GPU on colab by selecting:\n",
        "\n",
        "**Runtime**   →   **Change runtime type**   →   **Hardware Accelerator: GPU**"
      ],
      "metadata": {
        "id": "8ecPu_ykGwWO"
      }
    },
    {
      "cell_type": "markdown",
      "source": [
        "#### Installing Libraries\n",
        "\n",
        "We will first install the relevant libraries. You may need to restart the instance (**Runtime** → **Restart Runtime**). Note that this needs to be done once.\n",
        "\n"
      ],
      "metadata": {
        "id": "kEJREvjKFj77"
      }
    },
    {
      "cell_type": "code",
      "execution_count": null,
      "metadata": {
        "id": "ql4OOiUTMdQa"
      },
      "outputs": [],
      "source": [
        "!sudo apt install tesseract-ocr\n",
        "!pip install pytesseract transformers timm\n",
        "!pip install 'git+https://github.com/facebookresearch/detectron2.git'\n",
        "!git clone https://github.com/microsoft/unilm.git"
      ]
    },
    {
      "cell_type": "markdown",
      "source": [
        "### Part 1: Text Recognition using OCR [50]"
      ],
      "metadata": {
        "id": "FT6ptFJhHMR_"
      }
    },
    {
      "cell_type": "markdown",
      "source": [
        "#### Helper Functions\n",
        "\n",
        "Here we will define some helper functions.\n"
      ],
      "metadata": {
        "id": "8khgmQzfKXKc"
      }
    },
    {
      "cell_type": "code",
      "source": [
        "import cv2\n",
        "import pytesseract \n",
        "from matplotlib import pyplot as plt\n",
        "import urllib.request as request\n",
        "import numpy as np\n",
        "\n",
        "def draw_text_on_image(img, results, min_conf = 0):\n",
        "  '''\n",
        "  '''\n",
        "  im_w, im_h = img.shape[:2]\n",
        "  text_img = np.ones((im_w, 2*im_h, 3))\n",
        "  for i in range(len(results[\"text\"])):    \n",
        "      # Extract the bounding box coordinates\n",
        "\n",
        "      x1, y1, x2, y2 = results[\"bbox\"][i]\n",
        "      \n",
        "      # Extract the text and confidence of the text localization\n",
        "      text = results[\"text\"][i]\n",
        "      conf = results[\"conf\"][i]\n",
        "      \n",
        "      # filter out weak confidence text localizations\n",
        "      if conf > min_conf and len(text) > 0:\n",
        "          text =  \"\".join(text).strip()\n",
        "          cv2.rectangle(img,\n",
        "                        (x1, y1),\n",
        "                        (x2, y2),\n",
        "                        (0, 0, 255), 1)\n",
        "          cv2.putText(text_img,\n",
        "                      text,\n",
        "                      (x1, y1),\n",
        "                      cv2.FONT_HERSHEY_SIMPLEX,\n",
        "                      .5, (0, 255, 255), 1)\n",
        "  text_img[:, im_h:, : ] = img\n",
        "  return text_img.astype(np.uint8)\n",
        "\n",
        "def format_tesseract_output(result):\n",
        "  '''\n",
        "  '''\n",
        "  result[\"bbox\"] = []\n",
        "  for i in range(len(result[\"text\"])): \n",
        "      x = result[\"left\"][i]\n",
        "      y = result[\"top\"][i]\n",
        "      w = result[\"width\"][i]\n",
        "      h = result[\"height\"][i]\n",
        "      result[\"bbox\"].append([x,y,x+w, y+h])\n",
        "  return result\n",
        "\n",
        "def download_image(img_path):\n",
        "  '''\n",
        "  '''\n",
        "  req = request.urlopen(img_path)\n",
        "  arr = np.asarray(bytearray(req.read()), dtype=np.uint8)\n",
        "  full_img = cv2.imdecode(arr, -1) # 'Load it as it is'\n",
        "  full_img = cv2.cvtColor(full_img, cv2.COLOR_BGR2RGB)\n",
        "  return full_img\n",
        "\n",
        "#OCR = optical character recognition\n",
        "def ocr_patch(full_img, crop = None, scale = 1, viz = False):\n",
        "  '''\n",
        "  Function to return \n",
        "  '''\n",
        "\n",
        "  # Add cropping logic here\n",
        "  if crop is not None:  \n",
        "    # Code here (2 lines - set dimensions equal to crop, set image)\n",
        "    pass\n",
        "\n",
        "  img = full_img \n",
        "\n",
        "  width, height  = img.shape[:2]\n",
        "  img_scaled = cv2.resize(img, dsize = (int(width*scale), int(height*scale)))\n",
        "  results = pytesseract.image_to_data(img_scaled, output_type=pytesseract.Output.DICT)\n",
        "\n",
        "  if viz:\n",
        "    plt.figure(figsize = (20, 20))\n",
        "    plt.imshow(draw_text_on_image(img_scaled, results, min_conf = .8))\n",
        "    plt.show()\n",
        "\n",
        "  return results"
      ],
      "metadata": {
        "id": "JioFYPcW29cS"
      },
      "execution_count": null,
      "outputs": []
    },
    {
      "cell_type": "markdown",
      "source": [
        "Let us start with loading an image of an unfilled CRA form. \n",
        "\n",
        "\n"
      ],
      "metadata": {
        "id": "v5ixgzL7IsX4"
      }
    },
    {
      "cell_type": "code",
      "source": [
        "img_path = 'https://www.signnow.com/preview/14/715/14715322/large.png'\n",
        "img = download_image(img_path)\n",
        "plt.figure(figsize = (10,10))\n",
        "plt.imshow(img)\n",
        "plt.show()"
      ],
      "metadata": {
        "id": "KoqtguXOIsL_"
      },
      "execution_count": null,
      "outputs": []
    },
    {
      "cell_type": "markdown",
      "source": [
        "##### **Q1.a** Try to run the `ocr_patch` function defined above on entire test image. You may need to set `crop = None` and `viz = True` to vizualize the image. What peculiar features do you see in the image? [5]\n",
        "##### **Q1.b** Try scaling the image using the `scale` parameter. Does scaling help? Why do you think it does/doesn't? [10]"
      ],
      "metadata": {
        "id": "zDJmChaUFMVf"
      }
    },
    {
      "cell_type": "code",
      "source": [
        "# Code here (1 line)"
      ],
      "metadata": {
        "id": "_4FAZHU2Kj4i"
      },
      "execution_count": null,
      "outputs": []
    },
    {
      "cell_type": "code",
      "source": [
        "# Code here (2+ lines)"
      ],
      "metadata": {
        "id": "LjvWbGiMxIdf"
      },
      "execution_count": null,
      "outputs": []
    },
    {
      "cell_type": "markdown",
      "source": [
        ""
      ],
      "metadata": {
        "id": "pxllR_hsxQYX"
      }
    },
    {
      "cell_type": "markdown",
      "source": [
        "\n",
        "\n",
        "##### **Q2** Try to analyze the text from the **Q1.a** as follows: \n",
        "\n",
        "1.   Are there non-dictionary words? \n",
        "2.   What kind of words are low-confidence and which are high?\n",
        "3.   What is the overall confidence trend with scale? [15]\n",
        "\n",
        "*Hint:* You can use [`pyenchant`](https://pyenchant.github.io/pyenchant/) for this. Import and dictionary selection are completed below. You can create two arrays, one to store whether or not the word is a dictionary word, and one for each word's confidence score. Then use a for loop to fill those arrays. Finally, use matplotlib to create a scatterplot of the binary dictionary word vs. confidence score. Discuss your findings.\n",
        "\n",
        "\n",
        "*Bonus:* Try some advanced analysis, and see if there are interesting patterns. This part is open ended for your own curiosity. "
      ],
      "metadata": {
        "id": "iveHD6izKkj_"
      }
    },
    {
      "cell_type": "code",
      "source": [
        "import enchant\n",
        "text = result_q1a[\"text\"]\n",
        "conf = result_q1a[\"conf\"]\n",
        "eng_dict = enchant.Dict(\"en_US\")\n",
        "# Code here (approx. 9 lines)"
      ],
      "metadata": {
        "id": "MB1Qfj54LCME"
      },
      "execution_count": null,
      "outputs": []
    },
    {
      "cell_type": "markdown",
      "source": [
        "##### **Q3.a** Implement cropping in `ocr_patch` function below and try out a few random crops. Add the images to your report. [10]\n",
        "*Hint:* You can create an array with several iterations of the `ocr_patch` parameters, e.g. `[[0, 0, 200, 100], [0, 0, 200, 200], [0, 0, 500, 500]]`. For each of these crop combinations, run the `ocr_patch` function.\n",
        "##### **Q3.b** How does the quality of detection change in the crop, how do the confidences change? [10]"
      ],
      "metadata": {
        "id": "BUESKFBWLf2f"
      }
    },
    {
      "cell_type": "code",
      "source": [
        "bboxes = result_q1a[\"bbox\"]\n",
        "\n",
        "# Code here (approx. 2 lines)"
      ],
      "metadata": {
        "id": "3AHCjNXlNsIo"
      },
      "execution_count": null,
      "outputs": []
    },
    {
      "cell_type": "markdown",
      "source": [
        "### Part 2: Text Localization [55 + 15 available bonus]\n",
        "\n",
        "You may have seen that the crops are more meaningful. This is because OCR performs better without a lot of background context. In fact, tesseract tries to do it using moslty classical CV techniques. We will now use deep learning to get better localization, and see how our OCR quality improves. Note that it takes about a minute for the models to download."
      ],
      "metadata": {
        "id": "F6YwplNYFgWQ"
      }
    },
    {
      "cell_type": "code",
      "source": [
        "import sys\n",
        "sys.path.append(\"/content/unilm\")\n",
        "\n",
        "import cv2\n",
        "\n",
        "from unilm.dit.object_detection.ditod import add_vit_config\n",
        "\n",
        "import torch\n",
        "\n",
        "from detectron2.config import CfgNode as CN\n",
        "from detectron2.config import get_cfg\n",
        "from detectron2.utils.visualizer import ColorMode, Visualizer\n",
        "from detectron2.data import MetadataCatalog\n",
        "from detectron2.engine import DefaultPredictor\n",
        "\n",
        "# Step 1: instantiate config\n",
        "cfg = get_cfg()\n",
        "add_vit_config(cfg)\n",
        "cfg.merge_from_file(\"/content/unilm/dit/text_detection/configs/mask_rcnn_dit_base.yaml\")\n",
        "\n",
        "# Step 2: add model weights URL to config\n",
        "cfg.MODEL.WEIGHTS = \"https://layoutlm.blob.core.windows.net/dit/dit-fts/funsd_dit-b_mrcnn.pth\"\n",
        "\n",
        "# Step 3: set device\n",
        "device = \"cuda\" if torch.cuda.is_available() else \"cpu\"\n",
        "cfg.MODEL.DEVICE = device\n",
        "\n",
        "# Step 4: define model\n",
        "predictor = DefaultPredictor(cfg)\n",
        "\n",
        "# Step 5: run inference\n",
        "img_path = 'https://www.signnow.com/preview/14/715/14715322/large.png'\n",
        "img = download_image(img_path)\n",
        "\n",
        "md = MetadataCatalog.get(cfg.DATASETS.TEST[0])\n",
        "\n",
        "if cfg.DATASETS.TEST[0]=='icdar2019_test':\n",
        "    md.set(thing_classes=[\"table\"])\n",
        "else:\n",
        "    md.set(thing_classes=[\"text\",\"title\",\"list\",\"table\",\"figure\"])\n",
        "\n",
        "output = predictor(img)[\"instances\"]\n",
        "v = Visualizer(img[:, :, ::-1],\n",
        "                md,\n",
        "                scale=1.0,\n",
        "                instance_mode=ColorMode.SEGMENTATION)\n",
        "result = v.draw_instance_predictions(output.to(\"cpu\"))\n",
        "result_image = result.get_image()[:, :, ::-1]\n",
        "\n",
        "plt.figure(figsize=(15,15))\n",
        "plt.imshow(result_image)\n",
        "plt.show()"
      ],
      "metadata": {
        "id": "01LKbXDYRolv"
      },
      "execution_count": null,
      "outputs": []
    },
    {
      "cell_type": "markdown",
      "source": [
        "##### **Q4.a** Use the outputs from above to crop the image and run tesseract. Do we get better predictions now? How does the runtime change? What can you do to improve the predictions?  [10]\n",
        "\n",
        "##### **Q4.b**  Comment on the speed/accuracy tradeoff. If we miss parts of the image, why do you think this is happening? Add relevant images along with your answer. [5]\n",
        "\n",
        "*Note 1:* You can alternatively use the object detection model. This may help with the runtime consideration. \n",
        "\n",
        "*Hint:* You may need to remove some redundant detections above; how would you do that?\n",
        "\n",
        "*Bonus:* Try a different model, by changing step 1 and 2. You may use paths from [here](https://github.com/microsoft/unilm/tree/master/dit/text_detection)."
      ],
      "metadata": {
        "id": "PgGWrM-nUQd3"
      }
    },
    {
      "cell_type": "code",
      "source": [
        "bboxes = output.get(\"pred_boxes\").tensor.cpu().numpy().astype(int)\n",
        "scores = output.get(\"scores\").cpu().numpy()"
      ],
      "metadata": {
        "id": "Oncc3HyaS_wx"
      },
      "execution_count": null,
      "outputs": []
    },
    {
      "cell_type": "markdown",
      "source": [
        "##### **Q5.a** Now let's see how handwritten text on this form changes our predicitons. Download the file from the img_path link above and fill it out with arbitary data (you can use a tablet or print it, fill it, and upload it). [10]\n",
        "*Hint:* For each of the `bboxes` defined above, print and run `ocr_patch` with that crop.\n",
        "\n",
        "\n",
        "*Bonus:* You can fill some parts  of the document in another language.\n",
        "\n",
        "\n"
      ],
      "metadata": {
        "id": "H0uTkV-NXCVk"
      }
    },
    {
      "cell_type": "code",
      "source": [
        "# Code here (3 lines)"
      ],
      "metadata": {
        "id": "QgvjAEZdnF_P"
      },
      "execution_count": null,
      "outputs": []
    },
    {
      "cell_type": "code",
      "source": [
        "# Note this may not work in Firefox so you may have to upload manually under 'files' on the left hand menu\n",
        "from google.colab import files\n",
        "uploaded = files.upload() "
      ],
      "metadata": {
        "id": "-7qHG2fDpN8_"
      },
      "execution_count": null,
      "outputs": []
    },
    {
      "cell_type": "markdown",
      "source": [
        "##### **Q5.b** Run `ocr_patch`  on the whole image and comment on how the handwritten parts appear. Add the image into this report. [5]"
      ],
      "metadata": {
        "id": "7W2jKyFiX_2c"
      }
    },
    {
      "cell_type": "code",
      "source": [
        "# Code here"
      ],
      "metadata": {
        "id": "N620K-HEYADF"
      },
      "execution_count": null,
      "outputs": []
    },
    {
      "cell_type": "markdown",
      "source": [
        "##### **Q5.c** Run our localization model and see if we are able to localize the handwritten parts well. Add some images in the report. [10]\n",
        "\n",
        "*Bonus 1:* If you filled the some parts of the form in another language, how does our approch work there? [10]\n",
        "\n",
        "*Bonus 2:* How does a form filled out using a tablet vs. an image of a printed and scanned form perform? Which do you expect to perform better? [5]\n"
      ],
      "metadata": {
        "id": "M39_42W4YhPs"
      }
    },
    {
      "cell_type": "code",
      "source": [
        ""
      ],
      "metadata": {
        "id": "xQ8z9tT8YgLu"
      },
      "execution_count": null,
      "outputs": []
    },
    {
      "cell_type": "markdown",
      "source": [
        "##### **Q6** What are some potential sources of bias that may lead to bad predictions? What are some ways to alleviate them? [15]\n",
        "*Hint: Comment on image quality, type of data used in the DiT paper, language of data vs. prediction.*"
      ],
      "metadata": {
        "id": "MiCIR2L7ZRXP"
      }
    }
  ]
}